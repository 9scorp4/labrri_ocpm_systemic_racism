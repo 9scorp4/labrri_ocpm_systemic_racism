{
 "cells": [
  {
   "cell_type": "markdown",
   "metadata": {},
   "source": [
    "# Language Distribution Analysis\n",
    "\n",
    "This notebook provides some samples of the requests that can be made using the *LanguageDistributionChart* class from the module '*scripts/language_distribution.py*'.\n",
    "\n",
    "*LanguageDistributionChart* contains the following methods:\n",
    "- *count_graph*: Returns the number of documents grouped by language.\n",
    "- *language_percentage_distribution*: Return the distribution of French and English words inside French, English and Bilingual documents. This analysis is done under the assumption that none of these documents are 100% unilingual and allowed to define a 'bilinguism threshold' of 30% for a document to be considered 'bilingual'. These findings would be fundamental in the development of the Topic Analysis pipeline.\n",
    "\n",
    "To execute this notebook, please start by running the initialization script below. Then, you can run and modify the other code cells according to your needs. "
   ]
  },
  {
   "cell_type": "code",
   "execution_count": 1,
   "metadata": {},
   "outputs": [
    {
     "data": {
      "text/plain": [
       "1"
      ]
     },
     "execution_count": 1,
     "metadata": {},
     "output_type": "execute_result"
    }
   ],
   "source": [
    "# Import required libraries\n",
    "from pathlib import Path\n",
    "from datetime import datetime\n",
    "from loguru import logger\n",
    "\n",
    "# Define constants\n",
    "LOGS_DIR = Path('logs')\n",
    "timestamp = datetime.now().strftime(\"%Y-%m-%d_%H-%M-%S\")\n",
    "LOGS_FILE = LOGS_DIR / f\"language_distribution_{timestamp}.log\"\n",
    "PDF_LIST = Path('data/pdf_list.csv')\n",
    "DB_PATH = Path('data/database.db')\n",
    "\n",
    "logger.add(\n",
    "    LOGS_FILE,\n",
    "    rotation=\"1 day\",\n",
    "    retention=\"7 days\",\n",
    "    level=\"DEBUG\",\n",
    "    format=\"{time:YYYY-MM-DD at HH:mm:ss} | {level} | {message}\",\n",
    ")"
   ]
  },
  {
   "cell_type": "code",
   "execution_count": 2,
   "metadata": {},
   "outputs": [
    {
     "name": "stderr",
     "output_type": "stream",
     "text": [
      "\u001b[32m2024-10-05 16:00:40.555\u001b[0m | \u001b[1mINFO    \u001b[0m | \u001b[36mscripts.database\u001b[0m:\u001b[36m__init__\u001b[0m:\u001b[36m25\u001b[0m - \u001b[1mDatabase connection successful.\u001b[0m\n",
      "\u001b[32m2024-10-05 16:00:44.170\u001b[0m | \u001b[1mINFO    \u001b[0m | \u001b[36mscripts.language_distribution\u001b[0m:\u001b[36m__init__\u001b[0m:\u001b[36m89\u001b[0m - \u001b[1mLanguageDistributionChart initialized successfully\u001b[0m\n",
      "\u001b[32m2024-10-05 16:00:44.171\u001b[0m | \u001b[1mINFO    \u001b[0m | \u001b[36mscripts.language_distribution\u001b[0m:\u001b[36manalyze_all\u001b[0m:\u001b[36m262\u001b[0m - \u001b[1mStarting comprehensive language distribution analysis\u001b[0m\n",
      "\u001b[32m2024-10-05 16:00:44.172\u001b[0m | \u001b[1mINFO    \u001b[0m | \u001b[36mscripts.language_distribution\u001b[0m:\u001b[36mcount_graph\u001b[0m:\u001b[36m92\u001b[0m - \u001b[1mGenerating graph for All categories\u001b[0m\n",
      "\u001b[32m2024-10-05 16:00:44.666\u001b[0m | \u001b[1mINFO    \u001b[0m | \u001b[36mscripts.language_distribution\u001b[0m:\u001b[36mcount_graph\u001b[0m:\u001b[36m134\u001b[0m - \u001b[1mGraph generated and saved for All categories\u001b[0m\n",
      "\u001b[32m2024-10-05 16:00:44.668\u001b[0m | \u001b[1mINFO    \u001b[0m | \u001b[36mscripts.language_distribution\u001b[0m:\u001b[36mcount_graph\u001b[0m:\u001b[36m92\u001b[0m - \u001b[1mGenerating graph for Organismes communautaires et à but non-lucratif\u001b[0m\n",
      "\u001b[32m2024-10-05 16:00:44.797\u001b[0m | \u001b[1mINFO    \u001b[0m | \u001b[36mscripts.language_distribution\u001b[0m:\u001b[36mcount_graph\u001b[0m:\u001b[36m134\u001b[0m - \u001b[1mGraph generated and saved for Organismes communautaires et à but non-lucratif\u001b[0m\n",
      "\u001b[32m2024-10-05 16:00:44.799\u001b[0m | \u001b[1mINFO    \u001b[0m | \u001b[36mscripts.language_distribution\u001b[0m:\u001b[36mcount_graph\u001b[0m:\u001b[36m92\u001b[0m - \u001b[1mGenerating graph for Organismes municipaux et paramunicipaux\u001b[0m\n",
      "\u001b[32m2024-10-05 16:00:44.906\u001b[0m | \u001b[1mINFO    \u001b[0m | \u001b[36mscripts.language_distribution\u001b[0m:\u001b[36mcount_graph\u001b[0m:\u001b[36m134\u001b[0m - \u001b[1mGraph generated and saved for Organismes municipaux et paramunicipaux\u001b[0m\n",
      "\u001b[32m2024-10-05 16:00:44.907\u001b[0m | \u001b[1mINFO    \u001b[0m | \u001b[36mscripts.language_distribution\u001b[0m:\u001b[36mcount_graph\u001b[0m:\u001b[36m92\u001b[0m - \u001b[1mGenerating graph for Citoyens et particuliers\u001b[0m\n",
      "\u001b[32m2024-10-05 16:00:45.033\u001b[0m | \u001b[1mINFO    \u001b[0m | \u001b[36mscripts.language_distribution\u001b[0m:\u001b[36mcount_graph\u001b[0m:\u001b[36m134\u001b[0m - \u001b[1mGraph generated and saved for Citoyens et particuliers\u001b[0m\n",
      "\u001b[32m2024-10-05 16:00:45.034\u001b[0m | \u001b[1mINFO    \u001b[0m | \u001b[36mscripts.language_distribution\u001b[0m:\u001b[36mcount_graph\u001b[0m:\u001b[36m92\u001b[0m - \u001b[1mGenerating graph for Chercheurs et experts\u001b[0m\n",
      "\u001b[32m2024-10-05 16:00:45.155\u001b[0m | \u001b[1mINFO    \u001b[0m | \u001b[36mscripts.language_distribution\u001b[0m:\u001b[36mcount_graph\u001b[0m:\u001b[36m134\u001b[0m - \u001b[1mGraph generated and saved for Chercheurs et experts\u001b[0m\n",
      "\u001b[32m2024-10-05 16:00:45.155\u001b[0m | \u001b[1mINFO    \u001b[0m | \u001b[36mscripts.language_distribution\u001b[0m:\u001b[36mcount_graph\u001b[0m:\u001b[36m92\u001b[0m - \u001b[1mGenerating graph for Regroupements et réseaux\u001b[0m\n",
      "\u001b[32m2024-10-05 16:00:45.276\u001b[0m | \u001b[1mINFO    \u001b[0m | \u001b[36mscripts.language_distribution\u001b[0m:\u001b[36mcount_graph\u001b[0m:\u001b[36m134\u001b[0m - \u001b[1mGraph generated and saved for Regroupements et réseaux\u001b[0m\n",
      "\u001b[32m2024-10-05 16:00:45.278\u001b[0m | \u001b[1mINFO    \u001b[0m | \u001b[36mscripts.language_distribution\u001b[0m:\u001b[36mcount_graph\u001b[0m:\u001b[36m92\u001b[0m - \u001b[1mGenerating graph for Personalités et organisations politiques\u001b[0m\n",
      "\u001b[32m2024-10-05 16:00:45.399\u001b[0m | \u001b[1mINFO    \u001b[0m | \u001b[36mscripts.language_distribution\u001b[0m:\u001b[36mcount_graph\u001b[0m:\u001b[36m134\u001b[0m - \u001b[1mGraph generated and saved for Personalités et organisations politiques\u001b[0m\n",
      "\u001b[32m2024-10-05 16:00:45.399\u001b[0m | \u001b[1mINFO    \u001b[0m | \u001b[36mscripts.language_distribution\u001b[0m:\u001b[36mlanguage_percentage_distribution\u001b[0m:\u001b[36m175\u001b[0m - \u001b[1mAnalyzing language distribution for All languages\u001b[0m\n",
      "Processing Documents: 100%|██████████| 109/109 [02:22<00:00,  1.31s/it]\n",
      "\u001b[32m2024-10-05 16:03:09.767\u001b[0m | \u001b[1mINFO    \u001b[0m | \u001b[36mscripts.language_distribution\u001b[0m:\u001b[36mlanguage_percentage_distribution\u001b[0m:\u001b[36m212\u001b[0m - \u001b[1mGraph generated and saved for All languages\u001b[0m\n",
      "\u001b[32m2024-10-05 16:03:09.778\u001b[0m | \u001b[1mINFO    \u001b[0m | \u001b[36mscripts.language_distribution\u001b[0m:\u001b[36mvisualize_language_distribution\u001b[0m:\u001b[36m228\u001b[0m - \u001b[1mVisualizing language distribution\u001b[0m\n"
     ]
    },
    {
     "name": "stdout",
     "output_type": "stream",
     "text": [
      "\n",
      "Summary of 'Other' Category (Error Margin):\n",
      "Average 'Other' percentage: 2.12%\n",
      "Maximum 'Other' percentage: 6.84%\n",
      "Number of documents with 'Other' content: 98\n",
      "\n",
      "Sample 'Other' content:\n",
      "Document Overall Average (2.12%): No samples\n"
     ]
    },
    {
     "name": "stderr",
     "output_type": "stream",
     "text": [
      "\u001b[32m2024-10-05 16:03:10.223\u001b[0m | \u001b[1mINFO    \u001b[0m | \u001b[36mscripts.language_distribution\u001b[0m:\u001b[36mvisualize_language_distribution\u001b[0m:\u001b[36m259\u001b[0m - \u001b[1mLanguage distribution visualizations completed\u001b[0m\n",
      "\u001b[32m2024-10-05 16:03:10.224\u001b[0m | \u001b[1mINFO    \u001b[0m | \u001b[36mscripts.language_distribution\u001b[0m:\u001b[36manalyze_all\u001b[0m:\u001b[36m281\u001b[0m - \u001b[1mComprehensive language distribution analysis completed\u001b[0m\n"
     ]
    },
    {
     "data": {
      "text/html": [
       "<div>\n",
       "<style scoped>\n",
       "    .dataframe tbody tr th:only-of-type {\n",
       "        vertical-align: middle;\n",
       "    }\n",
       "\n",
       "    .dataframe tbody tr th {\n",
       "        vertical-align: top;\n",
       "    }\n",
       "\n",
       "    .dataframe thead th {\n",
       "        text-align: right;\n",
       "    }\n",
       "</style>\n",
       "<table border=\"1\" class=\"dataframe\">\n",
       "  <thead>\n",
       "    <tr style=\"text-align: right;\">\n",
       "      <th></th>\n",
       "      <th>English (%)</th>\n",
       "      <th>French (%)</th>\n",
       "      <th>Other (%)</th>\n",
       "      <th>Code Switches</th>\n",
       "    </tr>\n",
       "  </thead>\n",
       "  <tbody>\n",
       "    <tr>\n",
       "      <th>count</th>\n",
       "      <td>110.000000</td>\n",
       "      <td>110.000000</td>\n",
       "      <td>110.000000</td>\n",
       "      <td>110.000000</td>\n",
       "    </tr>\n",
       "    <tr>\n",
       "      <th>mean</th>\n",
       "      <td>14.859862</td>\n",
       "      <td>83.016082</td>\n",
       "      <td>2.124056</td>\n",
       "      <td>12.467890</td>\n",
       "    </tr>\n",
       "    <tr>\n",
       "      <th>std</th>\n",
       "      <td>31.541540</td>\n",
       "      <td>31.506091</td>\n",
       "      <td>1.838689</td>\n",
       "      <td>30.604182</td>\n",
       "    </tr>\n",
       "    <tr>\n",
       "      <th>min</th>\n",
       "      <td>0.000000</td>\n",
       "      <td>0.236991</td>\n",
       "      <td>0.000000</td>\n",
       "      <td>0.000000</td>\n",
       "    </tr>\n",
       "    <tr>\n",
       "      <th>25%</th>\n",
       "      <td>0.000000</td>\n",
       "      <td>93.552032</td>\n",
       "      <td>0.754351</td>\n",
       "      <td>0.000000</td>\n",
       "    </tr>\n",
       "    <tr>\n",
       "      <th>50%</th>\n",
       "      <td>0.326895</td>\n",
       "      <td>96.752689</td>\n",
       "      <td>1.568118</td>\n",
       "      <td>2.000000</td>\n",
       "    </tr>\n",
       "    <tr>\n",
       "      <th>75%</th>\n",
       "      <td>3.947248</td>\n",
       "      <td>98.485113</td>\n",
       "      <td>3.136436</td>\n",
       "      <td>14.000000</td>\n",
       "    </tr>\n",
       "    <tr>\n",
       "      <th>max</th>\n",
       "      <td>99.466194</td>\n",
       "      <td>100.000000</td>\n",
       "      <td>6.841815</td>\n",
       "      <td>278.000000</td>\n",
       "    </tr>\n",
       "  </tbody>\n",
       "</table>\n",
       "</div>"
      ],
      "text/plain": [
       "       English (%)  French (%)   Other (%)  Code Switches\n",
       "count   110.000000  110.000000  110.000000     110.000000\n",
       "mean     14.859862   83.016082    2.124056      12.467890\n",
       "std      31.541540   31.506091    1.838689      30.604182\n",
       "min       0.000000    0.236991    0.000000       0.000000\n",
       "25%       0.000000   93.552032    0.754351       0.000000\n",
       "50%       0.326895   96.752689    1.568118       2.000000\n",
       "75%       3.947248   98.485113    3.136436      14.000000\n",
       "max      99.466194  100.000000    6.841815     278.000000"
      ]
     },
     "execution_count": 2,
     "metadata": {},
     "output_type": "execute_result"
    }
   ],
   "source": [
    "from scripts.language_distribution import LanguageDistributionChart\n",
    "\n",
    "chart = LanguageDistributionChart(DB_PATH)\n",
    "overall_dist, detailed_analysis = chart.analyze_all()\n",
    "overall_dist\n",
    "detailed_analysis.describe()"
   ]
  }
 ],
 "metadata": {
  "kernelspec": {
   "display_name": "Python 3",
   "language": "python",
   "name": "python3"
  },
  "language_info": {
   "codemirror_mode": {
    "name": "ipython",
    "version": 3
   },
   "file_extension": ".py",
   "mimetype": "text/x-python",
   "name": "python",
   "nbconvert_exporter": "python",
   "pygments_lexer": "ipython3",
   "version": "3.12.4"
  }
 },
 "nbformat": 4,
 "nbformat_minor": 2
}
