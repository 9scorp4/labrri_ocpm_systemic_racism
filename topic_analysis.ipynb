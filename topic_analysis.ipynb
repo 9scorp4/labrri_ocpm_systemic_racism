{
 "cells": [
  {
   "cell_type": "markdown",
   "metadata": {},
   "source": [
    "# Topic Analysis"
   ]
  },
  {
   "cell_type": "markdown",
   "metadata": {},
   "source": [
    "## Initialization script"
   ]
  },
  {
   "cell_type": "code",
   "execution_count": 1,
   "metadata": {},
   "outputs": [],
   "source": [
    "from datetime import datetime\n",
    "from pathlib import Path\n",
    "import logging\n",
    "\n",
    "# Set up logging constants\n",
    "LOGS_DIR = Path(\"logs\")\n",
    "timestamp = datetime.now().strftime(\"%Y-%m-%d_%H-%M-%S\")\n",
    "LOGS_FILE = LOGS_DIR / f\"topic_analysis_{timestamp}.log\"\n",
    "\n",
    "logging.basicConfig(\n",
    "    filename=LOGS_FILE,\n",
    "    level=logging.DEBUG,\n",
    "    format='%(asctime)s:%(levelname)s:%(message)s'\n",
    ")"
   ]
  },
  {
   "cell_type": "markdown",
   "metadata": {},
   "source": [
    "## Analysis by single documents"
   ]
  },
  {
   "cell_type": "code",
   "execution_count": null,
   "metadata": {},
   "outputs": [],
   "source": [
    "from scripts.topic_analysis_main import main\n",
    "\n",
    "main(lang=\"fr\", mode='single', document_id=1)"
   ]
  },
  {
   "cell_type": "markdown",
   "metadata": {},
   "source": [
    "## Topics by language"
   ]
  },
  {
   "cell_type": "code",
   "execution_count": 2,
   "metadata": {},
   "outputs": [
    {
     "name": "stderr",
     "output_type": "stream",
     "text": [
      "[nltk_data] Downloading package stopwords to\n",
      "[nltk_data]     C:\\Users\\nicol\\AppData\\Roaming\\nltk_data...\n",
      "[nltk_data]   Package stopwords is already up-to-date!\n",
      "Processing Documents: 8100it [00:09, 818.56it/s]                      "
     ]
    },
    {
     "name": "stdout",
     "output_type": "stream",
     "text": [
      "All Documents Results:\n",
      "Topic 1: premier axe, voix, aspect, redevabilité, justement, choses, quelque, indicateurs, projets pilotes, déjà\n",
      "Topic 2: déjà, expériences, mise œuvre, travers, parler, premier, aujourd, pense, sayaspora, niveau\n",
      "Topic 3: différents, difficile, manière, processus, ville montréal, donne, exemple, mesurer, systématiser, nommer\n",
      "Topic 4: rendre, indicateurs, recommandations, montréal, extrêmement, pense, temps, nom, deuxième axe, ville montréal\n",
      "Topic 5: ville, décembre, important, montréal, chose, reconnaissance, niveau, groupes, quelque chose, compte\n"
     ]
    },
    {
     "name": "stderr",
     "output_type": "stream",
     "text": [
      "\n"
     ]
    }
   ],
   "source": [
    "from scripts.topic_analysis_main import main\n",
    "\n",
    "main(lang=\"fr\", mode='all')"
   ]
  },
  {
   "cell_type": "code",
   "execution_count": null,
   "metadata": {},
   "outputs": [],
   "source": [
    "from scripts.topic_analysis_main import main\n",
    "\n",
    "main(lang=\"en\", mode='all')"
   ]
  },
  {
   "cell_type": "code",
   "execution_count": 2,
   "metadata": {},
   "outputs": [
    {
     "name": "stderr",
     "output_type": "stream",
     "text": [
      "[nltk_data] Downloading package stopwords to\n",
      "[nltk_data]     C:\\Users\\nicol\\AppData\\Roaming\\nltk_data...\n",
      "[nltk_data]   Package stopwords is already up-to-date!\n",
      "Processing Documents: 25it [00:00, 32.77it/s]                      "
     ]
    },
    {
     "name": "stdout",
     "output_type": "stream",
     "text": [
      "All Documents Results:\n",
      "Topic 1: politiques culturelles, vision, aujourd, raval, influence, city, propre, guzder, projet, culturel\n",
      "Topic 2: culturel, diversité, leslie, vie, moyen, politiques, besoins, ocpm, studies, loi\n",
      "Topic 3: creative, culturelle, création, jeunes, culture, villes, poulot, journal, sûr, monde\n",
      "Topic 4: ville, montréal, politique, culturelle, florida, quebec, politique culturelle, creative, culturelles, cultural\n",
      "Topic 5: well, influence, class, volume issue, québec, politiques, ville montréal, qc, ville créative, politique\n"
     ]
    },
    {
     "name": "stderr",
     "output_type": "stream",
     "text": [
      "\n"
     ]
    }
   ],
   "source": [
    "from scripts.topic_analysis_main import main\n",
    "\n",
    "main(lang=\"bilingual\", mode='all')"
   ]
  }
 ],
 "metadata": {
  "kernelspec": {
   "display_name": ".venv",
   "language": "python",
   "name": "python3"
  },
  "language_info": {
   "codemirror_mode": {
    "name": "ipython",
    "version": 3
   },
   "file_extension": ".py",
   "mimetype": "text/x-python",
   "name": "python",
   "nbconvert_exporter": "python",
   "pygments_lexer": "ipython3",
   "version": "3.12.4"
  }
 },
 "nbformat": 4,
 "nbformat_minor": 2
}
