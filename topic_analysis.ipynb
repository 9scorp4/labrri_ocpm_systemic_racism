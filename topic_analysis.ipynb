{
 "cells": [
  {
   "cell_type": "markdown",
   "metadata": {},
   "source": [
    "# Topic Analysis"
   ]
  },
  {
   "cell_type": "markdown",
   "metadata": {},
   "source": [
    "## Initialization script"
   ]
  },
  {
   "cell_type": "code",
   "execution_count": 1,
   "metadata": {},
   "outputs": [],
   "source": [
    "from datetime import datetime\n",
    "from pathlib import Path\n",
    "import logging\n",
    "\n",
    "# Set up logging constants\n",
    "LOGS_DIR = Path(\"logs\")\n",
    "timestamp = datetime.now().strftime(\"%Y-%m-%d_%H-%M-%S\")\n",
    "LOGS_FILE = LOGS_DIR / f\"topic_analysis_{timestamp}.log\"\n",
    "\n",
    "logging.basicConfig(\n",
    "    filename=LOGS_FILE,\n",
    "    level=logging.DEBUG,\n",
    "    format='%(asctime)s:%(levelname)s:%(message)s'\n",
    ")"
   ]
  },
  {
   "cell_type": "markdown",
   "metadata": {},
   "source": [
    "## Analysis by single documents"
   ]
  },
  {
   "cell_type": "code",
   "execution_count": null,
   "metadata": {},
   "outputs": [],
   "source": [
    "from scripts.topic_analysis_main import main\n",
    "\n",
    "main(lang=\"fr\", mode='single', document_id=1)"
   ]
  },
  {
   "cell_type": "markdown",
   "metadata": {},
   "source": [
    "## Topics by language"
   ]
  },
  {
   "cell_type": "code",
   "execution_count": null,
   "metadata": {},
   "outputs": [],
   "source": [
    "from scripts.topic_analysis_main import main\n",
    "\n",
    "main(lang=\"fr\", mode='all')"
   ]
  },
  {
   "cell_type": "code",
   "execution_count": 2,
   "metadata": {},
   "outputs": [
    {
     "name": "stderr",
     "output_type": "stream",
     "text": [
      "[nltk_data] Downloading package stopwords to\n",
      "[nltk_data]     C:\\Users\\nicol\\AppData\\Roaming\\nltk_data...\n",
      "[nltk_data]   Package stopwords is already up-to-date!\n",
      "Processing Documents: 11881it [00:09, 1298.46it/s]                      "
     ]
    },
    {
     "name": "stdout",
     "output_type": "stream",
     "text": [
      "All Documents Results:\n",
      "Topic 1: pour nous, vous, qui est, je ne, aspect, axe, préoccupations, hui, processus, est est\n",
      "Topic 2: est est, eu, mon, toutes, ou, pour, aujourd, par, ne, sais\n",
      "Topic 3: deuxième, dans, justement, pouvoir, ville montréal, décembre, est pas, mais, se, nos\n",
      "Topic 4: est, qui, qu, je, pour, pas, vous, mais, au, dans\n",
      "Topic 5: œuvre, je ne, ces, était, qu il, ville, pour, qu, personnes, trop\n"
     ]
    },
    {
     "name": "stderr",
     "output_type": "stream",
     "text": [
      "\n"
     ]
    }
   ],
   "source": [
    "from scripts.topic_analysis_main import main\n",
    "\n",
    "main(lang=\"en\", mode='all')"
   ]
  },
  {
   "cell_type": "code",
   "execution_count": null,
   "metadata": {},
   "outputs": [],
   "source": [
    "from scripts.topic_analysis_main import main\n",
    "\n",
    "main(lang=\"bilingual\", mode='all')"
   ]
  }
 ],
 "metadata": {
  "kernelspec": {
   "display_name": ".venv",
   "language": "python",
   "name": "python3"
  },
  "language_info": {
   "codemirror_mode": {
    "name": "ipython",
    "version": 3
   },
   "file_extension": ".py",
   "mimetype": "text/x-python",
   "name": "python",
   "nbconvert_exporter": "python",
   "pygments_lexer": "ipython3",
   "version": "3.12.4"
  }
 },
 "nbformat": 4,
 "nbformat_minor": 2
}
