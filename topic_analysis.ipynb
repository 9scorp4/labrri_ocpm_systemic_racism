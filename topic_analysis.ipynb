{
 "cells": [
  {
   "cell_type": "markdown",
   "metadata": {},
   "source": [
    "# Topic Analysis"
   ]
  },
  {
   "cell_type": "code",
   "execution_count": null,
   "metadata": {},
   "outputs": [],
   "source": [
    "from scripts.topic_analysis import main\n",
    "\n",
    "print(f\"\\nFRENCH DOCUMENTS:\\n\")\n",
    "main(lang=\"fr\")\n",
    "\n",
    "print(f\"\\nENGLISH DOCUMENTS:\\n\")\n",
    "main(lang=\"en\")\n",
    "\n",
    "print(f\"\\nBILINGUAL DOCUMENTS:\\n\")\n",
    "main(lang=\"bilingual\")"
   ]
  }
 ],
 "metadata": {
  "language_info": {
   "name": "python"
  }
 },
 "nbformat": 4,
 "nbformat_minor": 2
}
