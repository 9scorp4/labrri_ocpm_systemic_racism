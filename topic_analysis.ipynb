{
 "cells": [
  {
   "cell_type": "markdown",
   "metadata": {},
   "source": [
    "# Topic Analysis"
   ]
  },
  {
   "cell_type": "code",
   "execution_count": 1,
   "metadata": {},
   "outputs": [],
   "source": [
    "from datetime import datetime\n",
    "from pathlib import Path\n",
    "import logging\n",
    "\n",
    "\"\"\"import nltk\n",
    "nltk.download('stopwords')\n",
    "nltk.download('wordnet')\n",
    "nltk.download('average_perceptron_tagger')\n",
    "nltk.download('punkt')\n",
    "nltk.download('perluniprops')\n",
    "nltk.download('snowball_data')\"\"\"\n",
    "\n",
    "# Set up logging\n",
    "LOGS_DIR = Path(\"logs\")\n",
    "timestamp = datetime.now().strftime(\"%Y-%m-%d_%H-%M-%S\")\n",
    "LOGS_FILE = LOGS_DIR / f\"topic_analysis_{timestamp}.log\"\n",
    "\n",
    "logging.basicConfig(\n",
    "    filename=LOGS_FILE,\n",
    "    level=logging.DEBUG,\n",
    "    format='%(asctime)s:%(levelname)s:%(message)s'\n",
    ")"
   ]
  },
  {
   "cell_type": "code",
   "execution_count": 2,
   "metadata": {},
   "outputs": [
    {
     "name": "stderr",
     "output_type": "stream",
     "text": [
      "[nltk_data] Downloading package stopwords to\n",
      "[nltk_data]     C:\\Users\\nicol\\AppData\\Roaming\\nltk_data...\n",
      "[nltk_data]   Package stopwords is already up-to-date!\n"
     ]
    },
    {
     "name": "stdout",
     "output_type": "stream",
     "text": [
      "\n",
      "FRENCH DOCUMENTS:\n",
      "\n"
     ]
    },
    {
     "name": "stderr",
     "output_type": "stream",
     "text": [
      "Processing Sentences:   0%|          | 0.00/90.0 [53:11<?, ?sentences/s]\n"
     ]
    }
   ],
   "source": [
    "from scripts.topic_analysis_main import main\n",
    "\n",
    "print(f\"\\nFRENCH DOCUMENTS:\\n\")\n",
    "main(lang=\"fr\")"
   ]
  },
  {
   "cell_type": "code",
   "execution_count": null,
   "metadata": {},
   "outputs": [],
   "source": [
    "from scripts.topic_analysis_main import main\n",
    "\n",
    "print(f\"\\nENGLISH DOCUMENTS:\\n\")\n",
    "main(lang=\"en\")"
   ]
  },
  {
   "cell_type": "code",
   "execution_count": null,
   "metadata": {},
   "outputs": [],
   "source": [
    "from scripts.topic_analysis_main import main\n",
    "\n",
    "print(f\"\\nBILINGUAL DOCUMENTS:\\n\")\n",
    "main(lang=\"bilingual\")"
   ]
  }
 ],
 "metadata": {
  "kernelspec": {
   "display_name": ".venv",
   "language": "python",
   "name": "python3"
  },
  "language_info": {
   "codemirror_mode": {
    "name": "ipython",
    "version": 3
   },
   "file_extension": ".py",
   "mimetype": "text/x-python",
   "name": "python",
   "nbconvert_exporter": "python",
   "pygments_lexer": "ipython3",
   "version": "3.12.1"
  }
 },
 "nbformat": 4,
 "nbformat_minor": 2
}
