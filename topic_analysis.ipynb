{
 "cells": [
  {
   "cell_type": "markdown",
   "metadata": {},
   "source": [
    "# Topic Analysis\n",
    "\n",
    "This notebook provides some samples of the requests that can be made using the *main* methods from the module *scripts/topic_analysis.py*.\n",
    "\n",
    "*main* calls the following classes:\n",
    "- *Database* ('*scripts/database.py*'): For database operations\n",
    "    - *fetch_single*: Fetches a single document for topic analysis\n",
    "    - *fetch_all*: Fetches all documents for topic analysis\n",
    "- *Process* ('*scripts/topic_analysis/text_processing.py*'): For text processing\n",
    "    - *single_doc*: Processes text from a single document\n",
    "    - *docs_parallel*: Processes text from several documents using parallel processing\n",
    "- *Analysis* ('*scripts/topic_analysis/analysis.py*'): For analysis of processed documents\n",
    "    - *analyze_docs*: Analyzes documents by topic\n",
    "\n",
    "To execute this notebook, please start by running the initialization script below. Then, you can run and modify the other code cells according to your needs. "
   ]
  },
  {
   "cell_type": "code",
   "execution_count": 1,
   "metadata": {},
   "outputs": [],
   "source": [
    "from datetime import datetime\n",
    "from pathlib import Path\n",
    "import logging\n",
    "\n",
    "# Set up logging constants\n",
    "LOGS_DIR = Path(\"logs\")\n",
    "timestamp = datetime.now().strftime(\"%Y-%m-%d_%H-%M-%S\")\n",
    "LOGS_FILE = LOGS_DIR / f\"topic_analysis_{timestamp}.log\"\n",
    "\n",
    "logging.basicConfig(\n",
    "    filename=LOGS_FILE,\n",
    "    level=logging.DEBUG,\n",
    "    format='%(asctime)s:%(levelname)s:%(message)s'\n",
    ")"
   ]
  },
  {
   "cell_type": "markdown",
   "metadata": {},
   "source": [
    "## Analysis by single documents"
   ]
  },
  {
   "cell_type": "code",
   "execution_count": 2,
   "metadata": {},
   "outputs": [
    {
     "name": "stderr",
     "output_type": "stream",
     "text": [
      "[nltk_data] Downloading package stopwords to\n",
      "[nltk_data]     C:\\Users\\nicol\\AppData\\Roaming\\nltk_data...\n",
      "[nltk_data]   Package stopwords is already up-to-date!\n",
      "Processing Document 1: 100%|██████████| 1/1 [00:37<00:00, 37.08s/it]"
     ]
    },
    {
     "name": "stdout",
     "output_type": "stream",
     "text": [
      "Document 1 Results:\n",
      "Topic 1: personnes, rapliq, handicap, handicapées, personnes handicapées, discrimination, racisme, discriminations, systémiques, mémoire\n"
     ]
    },
    {
     "name": "stderr",
     "output_type": "stream",
     "text": [
      "\n"
     ]
    }
   ],
   "source": [
    "from scripts.topic_analysis_main import main\n",
    "\n",
    "main(lang=\"fr\", mode='single', document_id=1)"
   ]
  },
  {
   "cell_type": "markdown",
   "metadata": {},
   "source": [
    "## Topics by language"
   ]
  },
  {
   "cell_type": "code",
   "execution_count": 3,
   "metadata": {},
   "outputs": [
    {
     "name": "stderr",
     "output_type": "stream",
     "text": [
      "Processing Documents: 146745it [3:04:57, 13.07it/s]          "
     ]
    }
   ],
   "source": [
    "from scripts.topic_analysis_main import main\n",
    "\n",
    "main(lang=\"fr\", mode='all')"
   ]
  },
  {
   "cell_type": "code",
   "execution_count": null,
   "metadata": {},
   "outputs": [],
   "source": [
    "from scripts.topic_analysis_main import main\n",
    "\n",
    "main(lang=\"en\", mode='all')"
   ]
  },
  {
   "cell_type": "code",
   "execution_count": null,
   "metadata": {},
   "outputs": [],
   "source": [
    "from scripts.topic_analysis_main import main\n",
    "\n",
    "main(lang=\"bilingual\", mode='all')"
   ]
  }
 ],
 "metadata": {
  "kernelspec": {
   "display_name": ".venv",
   "language": "python",
   "name": "python3"
  },
  "language_info": {
   "codemirror_mode": {
    "name": "ipython",
    "version": 3
   },
   "file_extension": ".py",
   "mimetype": "text/x-python",
   "name": "python",
   "nbconvert_exporter": "python",
   "pygments_lexer": "ipython3",
   "version": "3.12.4"
  }
 },
 "nbformat": 4,
 "nbformat_minor": 2
}
